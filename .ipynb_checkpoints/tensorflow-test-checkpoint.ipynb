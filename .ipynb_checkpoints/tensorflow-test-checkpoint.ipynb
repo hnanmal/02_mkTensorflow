{
 "cells": [
  {
   "cell_type": "code",
   "execution_count": 1,
   "metadata": {},
   "outputs": [],
   "source": [
    "# 모듈 로드\n",
    "import tensorflow as tf\n",
    "import matplotlib.pyplot as plt"
   ]
  },
  {
   "cell_type": "code",
   "execution_count": 2,
   "metadata": {},
   "outputs": [],
   "source": [
    "# 주어진 데이터 입력\n",
    "x = [10.5,24.6,1.6,18.3,19.5,10.5,21.3,24.1,0.3,19.9,21.5,2.3,16.7,22.2,8.5,3,5,17.9,9.2,19.3,21.3,20.3,19.5,10.5,14.4,17.5,22.1,5,9,21,14.9,15.3,0,4.8,6.3,19.4,4.5,1.4,15.1,20,17.5,21.1,18.3,15.7,12.7,19.5,15.2,10.5,8.5,24.7,12.6,16,20.9,3.8,24.2,15.6,20.9,21.3,12.4,4.1,5,18.4,18.9,1.9,2.1,18.4,11.4,14.8,20.2,18.7,11.9,23.9,14.6,13.2,23.6,10.4,2.1,3,14.5,23.5,19.4,12.4,0.4,21.6,15.1,4.6,22.6,14.3,19.7,20.5,4.5,4.6,7.1,1.3,8.3,0.2,22.9,14.2,8.4,24.7]\n",
    "y = [290.4,334.3,260.9,316.4,319.8,289.2,321.3,330.9,257.6,322.7,322.9,262.4,307.4,325.4,284.8,266.4,273.3,313.4,284.6,315.8,322.4,322.1,316.4,289.5,304.4,313.5,327.4,271.7,283.1,324.4,302.8,303.3,255.5,273,275.4,314.5,269.4,260,307,323,310.4,322.5,317,305.1,294.4,316.6,304.4,289.9,284.8,331.6,297.2,306.9,319.8,269.3,336,305.8,324.3,324.6,296,270,270.8,316.1,317.6,261.1,261.9,312.1,292.4,304.6,322.8,318.2,293.8,328.5,304.7,298.6,329.3,290.3,262.9,266.4,301.9,326.4,318,295.6,258.2,324.4,302.7,270,328.1,301.9,317.4,323.4,270.4,271.8,278.7,261.1,282.8,257.8,332.9,301,283,333.5]"
   ]
  },
  {
   "cell_type": "code",
   "execution_count": 3,
   "metadata": {},
   "outputs": [
    {
     "data": {
      "text/plain": [
       "<matplotlib.collections.PathCollection at 0x7fe76f045fd0>"
      ]
     },
     "execution_count": 3,
     "metadata": {},
     "output_type": "execute_result"
    },
    {
     "data": {
      "image/png": "[encoded data removed]",
      "text/plain": [
       "<Figure size 432x288 with 1 Axes>"
      ]
     },
     "metadata": {
      "needs_background": "light"
     },
     "output_type": "display_data"
    }
   ],
   "source": [
    "# 데이터 시각화\n",
    "plt.scatter(x, y, label=\"input data set\")"
   ]
  },
  {
   "cell_type": "code",
   "execution_count": null,
   "metadata": {},
   "outputs": [],
   "source": []
  }
 ],
 "metadata": {
  "kernelspec": {
   "display_name": "Python 3",
   "language": "python",
   "name": "python3"
  },
  "language_info": {
   "codemirror_mode": {
    "name": "ipython",
    "version": 3
   },
   "file_extension": ".py",
   "mimetype": "text/x-python",
   "name": "python",
   "nbconvert_exporter": "python",
   "pygments_lexer": "ipython3",
   "version": "3.7.4"
  }
 },
 "nbformat": 4,
 "nbformat_minor": 4
}
